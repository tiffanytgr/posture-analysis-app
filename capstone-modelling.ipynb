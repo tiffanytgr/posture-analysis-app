{
 "cells": [
  {
   "cell_type": "markdown",
   "metadata": {},
   "source": [
    "### III: Modelling & Tuning"
   ]
  },
  {
   "cell_type": "markdown",
   "metadata": {},
   "source": [
    "In this notebook, once done with collecting the video and image data, transforming and processing them to coordinates, and doing EDA, we can now proceed with training our binary classification model (define whether good or bad posture). We will explore different type of models, evaluate them and then do hyperparameter tuning to achieve the best scores."
   ]
  },
  {
   "cell_type": "code",
   "execution_count": 42,
   "metadata": {},
   "outputs": [],
   "source": [
    "import pandas as pd\n",
    "import seaborn as sns\n",
    "import matplotlib.pyplot as plt\n",
    "\n",
    "\n",
    "from sklearn.pipeline import Pipeline\n",
    "from sklearn.preprocessing import StandardScaler\n",
    "from sklearn.model_selection import train_test_split, cross_val_score, GridSearchCV, KFold\n",
    "from sklearn.metrics import classification_report, roc_auc_score, confusion_matrix, make_scorer, roc_curve, auc, ConfusionMatrixDisplay, f1_score, accuracy_score\n",
    "from sklearn.linear_model import LogisticRegression\n",
    "from sklearn.ensemble import RandomForestClassifier, AdaBoostClassifier\n",
    "from sklearn.tree import DecisionTreeClassifier\n",
    "from sklearn.svm import SVC\n",
    "from sklearn.naive_bayes import GaussianNB\n",
    "from sklearn.neighbors import KNeighborsClassifier\n",
    "\n",
    "\n",
    "from imblearn.over_sampling import SMOTE\n",
    "from imblearn.under_sampling import TomekLinks\n",
    "from imblearn.combine import SMOTETomek\n",
    "from imblearn.pipeline import Pipeline as ImbPipeline\n",
    "\n",
    "# from lightgbm import LGBMClassifier\n",
    "from xgboost import XGBClassifier\n",
    "import time\n",
    "import pickle\n",
    "\n",
    "import warnings\n",
    "warnings.filterwarnings(\"ignore\")"
   ]
  },
  {
   "cell_type": "code",
   "execution_count": 43,
   "metadata": {},
   "outputs": [
    {
     "data": {
      "text/html": [
       "<div>\n",
       "<style scoped>\n",
       "    .dataframe tbody tr th:only-of-type {\n",
       "        vertical-align: middle;\n",
       "    }\n",
       "\n",
       "    .dataframe tbody tr th {\n",
       "        vertical-align: top;\n",
       "    }\n",
       "\n",
       "    .dataframe thead th {\n",
       "        text-align: right;\n",
       "    }\n",
       "</style>\n",
       "<table border=\"1\" class=\"dataframe\">\n",
       "  <thead>\n",
       "    <tr style=\"text-align: right;\">\n",
       "      <th></th>\n",
       "      <th>class</th>\n",
       "      <th>x1</th>\n",
       "      <th>y1</th>\n",
       "      <th>z1</th>\n",
       "      <th>v1</th>\n",
       "      <th>x2</th>\n",
       "      <th>y2</th>\n",
       "      <th>z2</th>\n",
       "      <th>v2</th>\n",
       "      <th>x3</th>\n",
       "      <th>...</th>\n",
       "      <th>v33</th>\n",
       "      <th>good_posture</th>\n",
       "      <th>left_EyeSH</th>\n",
       "      <th>right_EyeSH</th>\n",
       "      <th>left_ESH</th>\n",
       "      <th>right_ESH</th>\n",
       "      <th>left_NSH</th>\n",
       "      <th>right_NSH</th>\n",
       "      <th>left_SHK</th>\n",
       "      <th>right_SHK</th>\n",
       "    </tr>\n",
       "  </thead>\n",
       "  <tbody>\n",
       "    <tr>\n",
       "      <th>0</th>\n",
       "      <td>Bad</td>\n",
       "      <td>0.597514</td>\n",
       "      <td>0.330045</td>\n",
       "      <td>-0.046739</td>\n",
       "      <td>0.999786</td>\n",
       "      <td>0.595233</td>\n",
       "      <td>0.314657</td>\n",
       "      <td>-0.039935</td>\n",
       "      <td>0.999435</td>\n",
       "      <td>0.594381</td>\n",
       "      <td>...</td>\n",
       "      <td>0.995285</td>\n",
       "      <td>0</td>\n",
       "      <td>155.307020</td>\n",
       "      <td>172.507026</td>\n",
       "      <td>163.510284</td>\n",
       "      <td>178.116644</td>\n",
       "      <td>143.535033</td>\n",
       "      <td>161.939258</td>\n",
       "      <td>147.515758</td>\n",
       "      <td>146.922322</td>\n",
       "    </tr>\n",
       "    <tr>\n",
       "      <th>1</th>\n",
       "      <td>Bad</td>\n",
       "      <td>0.603381</td>\n",
       "      <td>0.325570</td>\n",
       "      <td>-0.049170</td>\n",
       "      <td>0.999806</td>\n",
       "      <td>0.601188</td>\n",
       "      <td>0.310604</td>\n",
       "      <td>-0.040726</td>\n",
       "      <td>0.999489</td>\n",
       "      <td>0.600242</td>\n",
       "      <td>...</td>\n",
       "      <td>0.994957</td>\n",
       "      <td>0</td>\n",
       "      <td>163.544608</td>\n",
       "      <td>169.504665</td>\n",
       "      <td>173.068362</td>\n",
       "      <td>179.864711</td>\n",
       "      <td>153.054688</td>\n",
       "      <td>159.226312</td>\n",
       "      <td>149.645177</td>\n",
       "      <td>148.347381</td>\n",
       "    </tr>\n",
       "    <tr>\n",
       "      <th>2</th>\n",
       "      <td>Bad</td>\n",
       "      <td>0.614878</td>\n",
       "      <td>0.315903</td>\n",
       "      <td>-0.031407</td>\n",
       "      <td>0.999825</td>\n",
       "      <td>0.613352</td>\n",
       "      <td>0.302009</td>\n",
       "      <td>-0.020730</td>\n",
       "      <td>0.999540</td>\n",
       "      <td>0.612598</td>\n",
       "      <td>...</td>\n",
       "      <td>0.995270</td>\n",
       "      <td>0</td>\n",
       "      <td>169.634487</td>\n",
       "      <td>163.841305</td>\n",
       "      <td>178.625314</td>\n",
       "      <td>173.993331</td>\n",
       "      <td>161.336623</td>\n",
       "      <td>153.260392</td>\n",
       "      <td>150.563715</td>\n",
       "      <td>147.488250</td>\n",
       "    </tr>\n",
       "    <tr>\n",
       "      <th>3</th>\n",
       "      <td>Bad</td>\n",
       "      <td>0.624886</td>\n",
       "      <td>0.308227</td>\n",
       "      <td>-0.035477</td>\n",
       "      <td>0.999842</td>\n",
       "      <td>0.623481</td>\n",
       "      <td>0.295145</td>\n",
       "      <td>-0.026631</td>\n",
       "      <td>0.999585</td>\n",
       "      <td>0.622720</td>\n",
       "      <td>...</td>\n",
       "      <td>0.995534</td>\n",
       "      <td>0</td>\n",
       "      <td>164.198492</td>\n",
       "      <td>163.581827</td>\n",
       "      <td>173.384369</td>\n",
       "      <td>173.911822</td>\n",
       "      <td>155.536213</td>\n",
       "      <td>153.985592</td>\n",
       "      <td>155.709640</td>\n",
       "      <td>150.075273</td>\n",
       "    </tr>\n",
       "    <tr>\n",
       "      <th>4</th>\n",
       "      <td>Bad</td>\n",
       "      <td>0.636889</td>\n",
       "      <td>0.295799</td>\n",
       "      <td>-0.043732</td>\n",
       "      <td>0.999856</td>\n",
       "      <td>0.634686</td>\n",
       "      <td>0.282637</td>\n",
       "      <td>-0.032385</td>\n",
       "      <td>0.999624</td>\n",
       "      <td>0.634024</td>\n",
       "      <td>...</td>\n",
       "      <td>0.995753</td>\n",
       "      <td>0</td>\n",
       "      <td>161.850092</td>\n",
       "      <td>166.930504</td>\n",
       "      <td>170.893832</td>\n",
       "      <td>176.967896</td>\n",
       "      <td>152.749715</td>\n",
       "      <td>157.711976</td>\n",
       "      <td>158.154844</td>\n",
       "      <td>151.350972</td>\n",
       "    </tr>\n",
       "  </tbody>\n",
       "</table>\n",
       "<p>5 rows × 142 columns</p>\n",
       "</div>"
      ],
      "text/plain": [
       "  class        x1        y1        z1        v1        x2        y2        z2  \\\n",
       "0   Bad  0.597514  0.330045 -0.046739  0.999786  0.595233  0.314657 -0.039935   \n",
       "1   Bad  0.603381  0.325570 -0.049170  0.999806  0.601188  0.310604 -0.040726   \n",
       "2   Bad  0.614878  0.315903 -0.031407  0.999825  0.613352  0.302009 -0.020730   \n",
       "3   Bad  0.624886  0.308227 -0.035477  0.999842  0.623481  0.295145 -0.026631   \n",
       "4   Bad  0.636889  0.295799 -0.043732  0.999856  0.634686  0.282637 -0.032385   \n",
       "\n",
       "         v2        x3  ...       v33  good_posture  left_EyeSH  right_EyeSH  \\\n",
       "0  0.999435  0.594381  ...  0.995285             0  155.307020   172.507026   \n",
       "1  0.999489  0.600242  ...  0.994957             0  163.544608   169.504665   \n",
       "2  0.999540  0.612598  ...  0.995270             0  169.634487   163.841305   \n",
       "3  0.999585  0.622720  ...  0.995534             0  164.198492   163.581827   \n",
       "4  0.999624  0.634024  ...  0.995753             0  161.850092   166.930504   \n",
       "\n",
       "     left_ESH   right_ESH    left_NSH   right_NSH    left_SHK   right_SHK  \n",
       "0  163.510284  178.116644  143.535033  161.939258  147.515758  146.922322  \n",
       "1  173.068362  179.864711  153.054688  159.226312  149.645177  148.347381  \n",
       "2  178.625314  173.993331  161.336623  153.260392  150.563715  147.488250  \n",
       "3  173.384369  173.911822  155.536213  153.985592  155.709640  150.075273  \n",
       "4  170.893832  176.967896  152.749715  157.711976  158.154844  151.350972  \n",
       "\n",
       "[5 rows x 142 columns]"
      ]
     },
     "execution_count": 43,
     "metadata": {},
     "output_type": "execute_result"
    }
   ],
   "source": [
    "df = pd.read_csv('model_df.csv')\n",
    "df.head()"
   ]
  },
  {
   "cell_type": "markdown",
   "metadata": {},
   "source": [
    "### Import Datasets"
   ]
  },
  {
   "cell_type": "code",
   "execution_count": 44,
   "metadata": {},
   "outputs": [
    {
     "data": {
      "text/plain": [
       "Index(['class', 'x1', 'y1', 'z1', 'v1', 'x2', 'y2', 'z2', 'v2', 'x3',\n",
       "       ...\n",
       "       'v33', 'good_posture', 'left_EyeSH', 'right_EyeSH', 'left_ESH',\n",
       "       'right_ESH', 'left_NSH', 'right_NSH', 'left_SHK', 'right_SHK'],\n",
       "      dtype='object', length=142)"
      ]
     },
     "execution_count": 44,
     "metadata": {},
     "output_type": "execute_result"
    }
   ],
   "source": [
    "df.columns"
   ]
  },
  {
   "cell_type": "code",
   "execution_count": 45,
   "metadata": {},
   "outputs": [],
   "source": [
    "X = df[['left_EyeSH', 'right_EyeSH','left_ESH', 'right_ESH', 'left_NSH', 'right_NSH','left_SHK','right_SHK']]\n",
    "y = df['good_posture']\n",
    "\n",
    "# commentary / domain knowledge on why these angles are good - straight line?"
   ]
  },
  {
   "cell_type": "markdown",
   "metadata": {},
   "source": [
    "\n",
    "Steps I took for this section:\n",
    "1. Train Test Split\n",
    "2. Create Pipeline for modelling\n",
    "3. Create Function for Classification Reports\n",
    "4. Run Different Models\n",
    "5. Evaluate best model\n"
   ]
  },
  {
   "cell_type": "markdown",
   "metadata": {},
   "source": [
    "#### 1. Train Test Split"
   ]
  },
  {
   "cell_type": "code",
   "execution_count": 46,
   "metadata": {},
   "outputs": [],
   "source": [
    "X_train, X_test, y_train, y_test = train_test_split(X, y, test_size=0.3, random_state=42, stratify=y)"
   ]
  },
  {
   "cell_type": "markdown",
   "metadata": {},
   "source": [
    "#### 2. Function to define modelling pipeline"
   ]
  },
  {
   "cell_type": "code",
   "execution_count": 47,
   "metadata": {},
   "outputs": [],
   "source": [
    "# Define pipeline with placeholders\n",
    "\n",
    "pipeline = ImbPipeline([\n",
    "    ('ss', StandardScaler()), \n",
    "    ('smotetomek', SMOTETomek(random_state=42)),\n",
    "    ('clf', LogisticRegression()) \n",
    "])"
   ]
  },
  {
   "cell_type": "markdown",
   "metadata": {},
   "source": [
    "#### 3. Function to define Classification Reports"
   ]
  },
  {
   "cell_type": "code",
   "execution_count": 48,
   "metadata": {},
   "outputs": [],
   "source": [
    "# Generate Classifcation Reports\n",
    "\n",
    "def report(model):\n",
    "    y_train_pred = model.predict(X_train)\n",
    "    y_test_pred = model.predict(X_test)\n",
    "\n",
    "    print(\"Classification Report for Train:\\n\", classification_report(y_train, y_train_pred))\n",
    "    print(\"======================================================\\n\")\n",
    "    print(\"Classification Report for Test:\\n\", classification_report(y_test, y_test_pred))"
   ]
  },
  {
   "cell_type": "code",
   "execution_count": 49,
   "metadata": {},
   "outputs": [],
   "source": [
    "def run_grid_search(pipeline, param_grid, X_train, y_train):\n",
    "    grid_search = GridSearchCV(pipeline, param_grid, cv=KFold(10), verbose=1, n_jobs=-1, scoring='roc_auc')\n",
    "    grid_search.fit(X_train, y_train)\n",
    "    return grid_search"
   ]
  },
  {
   "cell_type": "code",
   "execution_count": 50,
   "metadata": {},
   "outputs": [],
   "source": [
    "# Define parameter grid\n",
    "\n",
    "param_grid_logreg = {\n",
    "    'clf': [LogisticRegression(max_iter = 10000, solver='saga')],\n",
    "    'clf__C': [0.001, 0.005, 0.01, 0.05, 0.1, 0.5],\n",
    "    'clf__penalty': ['l1', 'l2']\n",
    "}"
   ]
  },
  {
   "cell_type": "markdown",
   "metadata": {},
   "source": [
    "#### 4. Evaluating different classification models"
   ]
  },
  {
   "cell_type": "markdown",
   "metadata": {},
   "source": [
    "#### 4.1 Baseline Model\n",
    "We begin with creating a baseline model so that we have something to evaluate our final model against. The baseline model will be using Logistic Regression and all 33 coordinates collected by Mediapipe will be used as features. "
   ]
  },
  {
   "cell_type": "code",
   "execution_count": 51,
   "metadata": {},
   "outputs": [
    {
     "name": "stdout",
     "output_type": "stream",
     "text": [
      "Baseline score using Logistic Regression is 0.9430505774591796\n"
     ]
    }
   ],
   "source": [
    "X = df.drop(columns = ['good_posture','class'])\n",
    "X_train, X_test, y_train, y_test = train_test_split(X, y, test_size=0.3, random_state=42, stratify=y)\n",
    "baseline_LR = LogisticRegression() \n",
    "baseline_LR.fit(X_train, y_train)\n",
    "score = baseline_LR.score(X_test, y_test)\n",
    "\n",
    "print(f\"Baseline score using Logistic Regression is {score}\")"
   ]
  },
  {
   "cell_type": "markdown",
   "metadata": {},
   "source": [
    "#### 4.2 Logistic Regression"
   ]
  },
  {
   "cell_type": "code",
   "execution_count": 52,
   "metadata": {},
   "outputs": [],
   "source": [
    "X = df[['left_EyeSH', 'right_EyeSH','left_ESH', 'right_ESH', 'left_NSH', 'right_NSH','left_SHK','right_SHK']]\n",
    "X_train, X_test, y_train, y_test = train_test_split(X, y, test_size=0.3, random_state=42, stratify=y)"
   ]
  },
  {
   "cell_type": "code",
   "execution_count": 53,
   "metadata": {},
   "outputs": [
    {
     "name": "stdout",
     "output_type": "stream",
     "text": [
      "Fitting 10 folds for each of 12 candidates, totalling 120 fits\n"
     ]
    },
    {
     "name": "stdout",
     "output_type": "stream",
     "text": [
      "Time needed for run_grid_search: 2.65 seconds\n",
      "Best parameters for Logistic Regression: {'clf': LogisticRegression(max_iter=10000, solver='saga'), 'clf__C': 0.5, 'clf__penalty': 'l1'}\n"
     ]
    }
   ],
   "source": [
    "# Record the start time\n",
    "start_time = time.time()\n",
    "\n",
    "# Run grid search\n",
    "grid_search_logreg = run_grid_search(pipeline, param_grid_logreg, X_train, y_train)\n",
    "\n",
    "# Record the end time\n",
    "end_time = time.time()\n",
    "\n",
    "# Calculate the elapsed time\n",
    "elapsed_time = end_time - start_time\n",
    "\n",
    "# Print the elapsed time\n",
    "print(f\"Time needed for run_grid_search: {elapsed_time:.2f} seconds\")\n",
    "print(\"Best parameters for Logistic Regression:\", grid_search_logreg.best_params_)\n",
    "\n",
    "results_list = []\n",
    "\n",
    "# Store results in a dictionary\n",
    "model_results = {\n",
    "        'Model': 'log_reg',\n",
    "        'Time': elapsed_time\n",
    "    }\n",
    "\n",
    "# Append the results to the list\n",
    "results_list.append(model_results)"
   ]
  },
  {
   "cell_type": "code",
   "execution_count": 55,
   "metadata": {},
   "outputs": [
    {
     "name": "stdout",
     "output_type": "stream",
     "text": [
      "Classification Report for Train:\n",
      "               precision    recall  f1-score   support\n",
      "\n",
      "           0       0.95      0.92      0.93      3006\n",
      "           1       0.91      0.95      0.93      2852\n",
      "\n",
      "    accuracy                           0.93      5858\n",
      "   macro avg       0.93      0.93      0.93      5858\n",
      "weighted avg       0.93      0.93      0.93      5858\n",
      "\n",
      "======================================================\n",
      "\n",
      "Classification Report for Test:\n",
      "               precision    recall  f1-score   support\n",
      "\n",
      "           0       0.94      0.91      0.92      1288\n",
      "           1       0.91      0.94      0.92      1223\n",
      "\n",
      "    accuracy                           0.92      2511\n",
      "   macro avg       0.92      0.92      0.92      2511\n",
      "weighted avg       0.92      0.92      0.92      2511\n",
      "\n"
     ]
    }
   ],
   "source": [
    "# Save the model\n",
    "LR = grid_search_logreg.best_estimator_\n",
    "\n",
    "# Generate Classifcation Reports\n",
    "report(LR)"
   ]
  },
  {
   "cell_type": "code",
   "execution_count": 56,
   "metadata": {},
   "outputs": [],
   "source": [
    "def cmplot(model):\n",
    "    y_train_pred = model.predict(X_train)\n",
    "    y_test_pred = model.predict(X_test)\n",
    "\n",
    "    cm_train = confusion_matrix(y_train, y_train_pred, labels=model.named_steps['clf'].classes_)\n",
    "    cm_test = confusion_matrix(y_test, y_test_pred, labels=model.named_steps['clf'].classes_)\n",
    "\n",
    "    fig, ax = plt.subplots(1, 2, figsize=(12, 5))\n",
    "\n",
    "    disp_train = ConfusionMatrixDisplay(confusion_matrix=cm_train, display_labels=model.named_steps['clf'].classes_)\n",
    "    disp_train.plot(ax=ax[0], cmap=plt.cm.Reds)\n",
    "    ax[0].set_title('Confusion Matrix for Train Set')\n",
    "    ax[0].set_xlabel('Predicted Good Pose')\n",
    "    ax[0].set_ylabel('Actual Good Pose')\n",
    "    ax[0].set_xticks(ticks=[0, 1])\n",
    "    ax[0].set_yticks(ticks=[0, 1])\n",
    "\n",
    "    disp_test = ConfusionMatrixDisplay(confusion_matrix=cm_test, display_labels=model.named_steps['clf'].classes_)\n",
    "    disp_test.plot(ax=ax[1], cmap=plt.cm.Blues)\n",
    "    ax[1].set_title('Confusion Matrix for Test Set')\n",
    "    ax[1].set_xlabel('Predicted Good Pose')\n",
    "    ax[1].set_ylabel('Actual Bad Pose')\n",
    "    ax[1].set_xticks(ticks=[0, 1])\n",
    "    ax[1].set_yticks(ticks=[0, 1])\n",
    "\n",
    "    plt.tight_layout()\n",
    "    plt.show()"
   ]
  },
  {
   "cell_type": "code",
   "execution_count": 92,
   "metadata": {},
   "outputs": [],
   "source": [
    "results_df = []  # Initialize an empty DataFrame\n",
    "\n",
    "def class_results(model):\n",
    "\n",
    "    y_train_prob = model.predict_proba(X_train)[:, 1]\n",
    "    roc_auc_train = roc_auc_score(y_train, y_train_prob)\n",
    "\n",
    "    y_test_prob = model.predict_proba(X_test)[:, 1]\n",
    "    roc_auc_test = roc_auc_score(y_test, y_test_prob)\n",
    "\n",
    "    # Calculate F1 score and accuracy\n",
    "    y_train_pred = model.predict(X_train)\n",
    "    f1_train = f1_score(y_train, y_train_pred)\n",
    "    accuracy_train = accuracy_score(y_train, y_train_pred)\n",
    "\n",
    "    y_test_pred = model.predict(X_test)\n",
    "    f1_test = f1_score(y_test, y_test_pred)\n",
    "    accuracy_test = accuracy_score(y_test, y_test_pred)\n",
    "\n",
    "    # Prepare data for DataFrame\n",
    "    model_results = {\n",
    "        \"ROC-AUC Train\": roc_auc_train,\n",
    "        \"ROC-AUC Test\": roc_auc_test,\n",
    "        \"F1 Train\": f1_train,\n",
    "        \"F1 Test\": f1_test,\n",
    "        \"Accuracy Train\": accuracy_train,\n",
    "        \"Accuracy Test\": accuracy_test\n",
    "    }\n",
    "\n",
    "    results_df.append(model_results)\n",
    "\n",
    "    # Print results\n",
    "    print(\"ROC-AUC for Train:\", roc_auc_train)\n",
    "    print(\"ROC-AUC for Test:\", roc_auc_test)\n",
    "\n",
    "    print(\"F1 for Train:\", f1_train)\n",
    "    print(\"F1 for Test:\", f1_test)\n",
    "\n",
    "    print(\"Accuracy for Train:\", accuracy_train)\n",
    "    print(\"Accuracy for Test:\", accuracy_test)\n"
   ]
  },
  {
   "cell_type": "code",
   "execution_count": 93,
   "metadata": {},
   "outputs": [
    {
     "name": "stdout",
     "output_type": "stream",
     "text": [
      "ROC-AUC for Train: 0.959302293029649\n",
      "ROC-AUC for Test: 0.9530961945729622\n",
      "F1 for Train: 0.9302325581395349\n",
      "F1 for Test: 0.922458818802732\n",
      "Accuracy for Train: 0.9308637760327757\n",
      "Accuracy for Test: 0.9231381919553963\n"
     ]
    },
    {
     "data": {
      "image/png": "[encoded data removed]",
      "text/plain": [
       "<Figure size 1200x500 with 4 Axes>"
      ]
     },
     "metadata": {},
     "output_type": "display_data"
    }
   ],
   "source": [
    "# Results for Logistic Regression\n",
    "class_results(LR) \n",
    "cmplot(LR)"
   ]
  },
  {
   "cell_type": "markdown",
   "metadata": {},
   "source": [
    "#### 4.2 Random Forest"
   ]
  },
  {
   "cell_type": "code",
   "execution_count": 60,
   "metadata": {},
   "outputs": [],
   "source": [
    "param_grid_rf = {\n",
    "    'clf': [RandomForestClassifier()],\n",
    "    'clf__n_estimators': [100, 200],\n",
    "    'clf__max_depth': [None, 20],\n",
    "    'clf__min_samples_split': [2, 5],\n",
    "    'clf__min_samples_leaf': [1, 2],\n",
    "    'clf__bootstrap': [True, False]\n",
    "}"
   ]
  },
  {
   "cell_type": "code",
   "execution_count": 61,
   "metadata": {},
   "outputs": [
    {
     "name": "stdout",
     "output_type": "stream",
     "text": [
      "Fitting 10 folds for each of 32 candidates, totalling 320 fits\n"
     ]
    },
    {
     "name": "stdout",
     "output_type": "stream",
     "text": [
      "Time needed for run_grid_search: 105.28 seconds\n",
      "Best parameters for Random Forest: {'clf': RandomForestClassifier(), 'clf__bootstrap': False, 'clf__max_depth': 20, 'clf__min_samples_leaf': 1, 'clf__min_samples_split': 2, 'clf__n_estimators': 100}\n"
     ]
    }
   ],
   "source": [
    "# Record the start time\n",
    "start_time = time.time()\n",
    "\n",
    "# Run grid search\n",
    "grid_search_rf = run_grid_search(pipeline, param_grid_rf, X_train, y_train)\n",
    "\n",
    "# Record the end time\n",
    "end_time = time.time()\n",
    "\n",
    "# Calculate the elapsed time\n",
    "elapsed_time = end_time - start_time\n",
    "\n",
    "# Print output\n",
    "print(f\"Time needed for run_grid_search: {elapsed_time:.2f} seconds\")\n",
    "print(\"Best parameters for Random Forest:\", grid_search_rf.best_params_)\n",
    "\n",
    "\n",
    "# Store results in a dictionary\n",
    "model_results = {\n",
    "        'Model': 'rf',\n",
    "        'Time': elapsed_time}\n",
    "\n",
    "# Append the results to the list\n",
    "results_list.append(model_results)\n",
    "\n"
   ]
  },
  {
   "cell_type": "code",
   "execution_count": 62,
   "metadata": {},
   "outputs": [],
   "source": [
    "# Save the model\n",
    "\n",
    "RF = grid_search_rf.best_estimator_"
   ]
  },
  {
   "cell_type": "code",
   "execution_count": 95,
   "metadata": {},
   "outputs": [
    {
     "name": "stdout",
     "output_type": "stream",
     "text": [
      "ROC-AUC for Train: 0.9998078877308496\n",
      "ROC-AUC for Test: 0.9989598304749039\n",
      "F1 for Train: 0.9992989835261129\n",
      "F1 for Test: 0.9861337683523654\n",
      "Accuracy for Train: 0.99931717309662\n",
      "Accuracy for Test: 0.9864595778574273\n",
      "Classification Report for Train:\n",
      "               precision    recall  f1-score   support\n",
      "\n",
      "           0       1.00      1.00      1.00      3006\n",
      "           1       1.00      1.00      1.00      2852\n",
      "\n",
      "    accuracy                           1.00      5858\n",
      "   macro avg       1.00      1.00      1.00      5858\n",
      "weighted avg       1.00      1.00      1.00      5858\n",
      "\n",
      "======================================================\n",
      "\n",
      "Classification Report for Test:\n",
      "               precision    recall  f1-score   support\n",
      "\n",
      "           0       0.99      0.98      0.99      1288\n",
      "           1       0.98      0.99      0.99      1223\n",
      "\n",
      "    accuracy                           0.99      2511\n",
      "   macro avg       0.99      0.99      0.99      2511\n",
      "weighted avg       0.99      0.99      0.99      2511\n",
      "\n"
     ]
    }
   ],
   "source": [
    "class_results(RF)\n",
    "report(RF)"
   ]
  },
  {
   "cell_type": "markdown",
   "metadata": {},
   "source": [
    "#### 4.3 K-Nearest Neighbour (KNN)"
   ]
  },
  {
   "cell_type": "code",
   "execution_count": 64,
   "metadata": {},
   "outputs": [],
   "source": [
    "param_grid_knn = {\n",
    "    'clf': [KNeighborsClassifier()],\n",
    "    'clf__n_neighbors': [3, 5, 7, 9, 11, 13, 15],\n",
    "    'clf__weights': ['uniform', 'distance'],\n",
    "    'clf__metric': ['euclidean', 'manhattan', 'minkowski'],\n",
    "    'clf__p': [1, 2]  # This is used only when metric is 'minkowski'. p=1 is manhattan, p=2 is euclidean.\n",
    "}"
   ]
  },
  {
   "cell_type": "code",
   "execution_count": 65,
   "metadata": {},
   "outputs": [
    {
     "name": "stdout",
     "output_type": "stream",
     "text": [
      "Fitting 10 folds for each of 84 candidates, totalling 840 fits\n",
      "Time needed for run_grid_search: 5.57 seconds\n",
      "Best parameters for K-Nearest Neighbour: {'clf': KNeighborsClassifier(), 'clf__metric': 'manhattan', 'clf__n_neighbors': 15, 'clf__p': 1, 'clf__weights': 'distance'}\n"
     ]
    }
   ],
   "source": [
    "# Record the start time\n",
    "start_time = time.time()\n",
    "\n",
    "# Run grid search\n",
    "grid_search_knn = run_grid_search(pipeline, param_grid_knn, X_train, y_train)\n",
    "\n",
    "# Record the end time\n",
    "end_time = time.time()\n",
    "\n",
    "# Calculate the elapsed time\n",
    "elapsed_time = end_time - start_time\n",
    "\n",
    "# Store results in a dictionary\n",
    "model_results = {\n",
    "        'Model': 'knn',\n",
    "        'Time': elapsed_time}\n",
    "\n",
    "# Append the results to the list\n",
    "results_list.append(model_results)\n",
    "\n",
    "# Print output\n",
    "print(f\"Time needed for run_grid_search: {elapsed_time:.2f} seconds\")\n",
    "print(\"Best parameters for K-Nearest Neighbour:\", grid_search_knn.best_params_)\n"
   ]
  },
  {
   "cell_type": "code",
   "execution_count": 66,
   "metadata": {},
   "outputs": [],
   "source": [
    "# Save the model\n",
    "\n",
    "KNN = grid_search_knn.best_estimator_"
   ]
  },
  {
   "cell_type": "code",
   "execution_count": 96,
   "metadata": {},
   "outputs": [
    {
     "name": "stdout",
     "output_type": "stream",
     "text": [
      "ROC-AUC for Train: 0.9996575339270034\n",
      "ROC-AUC for Test: 0.997121044372102\n",
      "F1 for Train: 0.9991235758106923\n",
      "F1 for Test: 0.9791240278346296\n",
      "Accuracy for Train: 0.999146466370775\n",
      "Accuracy for Test: 0.9796893667861409\n",
      "Classification Report for Train:\n",
      "               precision    recall  f1-score   support\n",
      "\n",
      "           0       1.00      1.00      1.00      3006\n",
      "           1       1.00      1.00      1.00      2852\n",
      "\n",
      "    accuracy                           1.00      5858\n",
      "   macro avg       1.00      1.00      1.00      5858\n",
      "weighted avg       1.00      1.00      1.00      5858\n",
      "\n",
      "======================================================\n",
      "\n",
      "Classification Report for Test:\n",
      "               precision    recall  f1-score   support\n",
      "\n",
      "           0       0.98      0.98      0.98      1288\n",
      "           1       0.98      0.98      0.98      1223\n",
      "\n",
      "    accuracy                           0.98      2511\n",
      "   macro avg       0.98      0.98      0.98      2511\n",
      "weighted avg       0.98      0.98      0.98      2511\n",
      "\n"
     ]
    },
    {
     "data": {
      "image/png": "[encoded data removed]",
      "text/plain": [
       "<Figure size 1200x500 with 4 Axes>"
      ]
     },
     "metadata": {},
     "output_type": "display_data"
    }
   ],
   "source": [
    "class_results(KNN)\n",
    "report(KNN)\n",
    "cmplot(KNN)"
   ]
  },
  {
   "cell_type": "markdown",
   "metadata": {},
   "source": [
    "#### 4.4 Adaboost"
   ]
  },
  {
   "cell_type": "code",
   "execution_count": 68,
   "metadata": {},
   "outputs": [],
   "source": [
    "param_grid_ada = {\n",
    "    'clf': [AdaBoostClassifier()],\n",
    "    'clf__n_estimators': [10, 50, 100, 200],\n",
    "    'clf__learning_rate': [0.001, 0.01, 0.1, 0.5, 1.0],\n",
    "    'clf__algorithm': ['SAMME', 'SAMME.R']\n",
    "}"
   ]
  },
  {
   "cell_type": "code",
   "execution_count": 69,
   "metadata": {},
   "outputs": [
    {
     "name": "stdout",
     "output_type": "stream",
     "text": [
      "Fitting 10 folds for each of 40 candidates, totalling 400 fits\n",
      "Time needed for run_grid_search: 53.00 seconds\n",
      "Best parameters for AdaBoost: {'clf': AdaBoostClassifier(), 'clf__algorithm': 'SAMME.R', 'clf__learning_rate': 1.0, 'clf__n_estimators': 200}\n"
     ]
    }
   ],
   "source": [
    "# Record the start time\n",
    "start_time = time.time()\n",
    "\n",
    "# Run grid search\n",
    "grid_search_ada = run_grid_search(pipeline, param_grid_ada, X_train, y_train)\n",
    "\n",
    "# Record the end time\n",
    "end_time = time.time()\n",
    "\n",
    "# Calculate the elapsed time\n",
    "elapsed_time = end_time - start_time\n",
    "\n",
    "# Store results in a dictionary\n",
    "model_results = {\n",
    "        'Model': 'ada',\n",
    "        'Time': elapsed_time}\n",
    "\n",
    "# Append the results to the list\n",
    "results_list.append(model_results)\n",
    "\n",
    "# Print output\n",
    "print(f\"Time needed for run_grid_search: {elapsed_time:.2f} seconds\")\n",
    "print(\"Best parameters for AdaBoost:\", grid_search_ada.best_params_)"
   ]
  },
  {
   "cell_type": "code",
   "execution_count": 70,
   "metadata": {},
   "outputs": [],
   "source": [
    "# Save the model\n",
    "\n",
    "AD = grid_search_ada.best_estimator_"
   ]
  },
  {
   "cell_type": "code",
   "execution_count": 97,
   "metadata": {},
   "outputs": [
    {
     "name": "stdout",
     "output_type": "stream",
     "text": [
      "ROC-AUC for Train: 0.996176009365094\n",
      "ROC-AUC for Test: 0.9843641285302915\n",
      "F1 for Train: 0.9670973298880275\n",
      "F1 for Test: 0.9464856230031949\n",
      "Accuracy for Train: 0.9673950153636053\n",
      "Accuracy for Test: 0.9466348068498606\n",
      "Classification Report for Train:\n",
      "               precision    recall  f1-score   support\n",
      "\n",
      "           0       0.98      0.95      0.97      3006\n",
      "           1       0.95      0.98      0.97      2852\n",
      "\n",
      "    accuracy                           0.97      5858\n",
      "   macro avg       0.97      0.97      0.97      5858\n",
      "weighted avg       0.97      0.97      0.97      5858\n",
      "\n",
      "======================================================\n",
      "\n",
      "Classification Report for Test:\n",
      "               precision    recall  f1-score   support\n",
      "\n",
      "           0       0.97      0.93      0.95      1288\n",
      "           1       0.93      0.97      0.95      1223\n",
      "\n",
      "    accuracy                           0.95      2511\n",
      "   macro avg       0.95      0.95      0.95      2511\n",
      "weighted avg       0.95      0.95      0.95      2511\n",
      "\n"
     ]
    },
    {
     "data": {
      "image/png": "[encoded data removed]",
      "text/plain": [
       "<Figure size 1200x500 with 4 Axes>"
      ]
     },
     "metadata": {},
     "output_type": "display_data"
    }
   ],
   "source": [
    "class_results(AD)\n",
    "report(AD)\n",
    "cmplot(AD)"
   ]
  },
  {
   "cell_type": "markdown",
   "metadata": {},
   "source": [
    "#### 4.5 XGBoost"
   ]
  },
  {
   "cell_type": "code",
   "execution_count": 76,
   "metadata": {},
   "outputs": [],
   "source": [
    "param_grid_xgb = {\n",
    "    'clf': [XGBClassifier()],\n",
    "    'clf__learning_rate': [0.01, 0.1],\n",
    "    'clf__n_estimators': [50, 100],\n",
    "    'clf__max_depth': [3, 7],\n",
    "    'clf__min_child_weight': [1, 5],\n",
    "    'clf__gamma': [0, 0.1],\n",
    "    'clf__subsample': [0.8, 1.0],\n",
    "    'clf__colsample_bytree': [0.8, 1.0],\n",
    "    'clf__objective': ['binary:logistic']\n",
    "}"
   ]
  },
  {
   "cell_type": "code",
   "execution_count": 77,
   "metadata": {},
   "outputs": [
    {
     "name": "stdout",
     "output_type": "stream",
     "text": [
      "Fitting 10 folds for each of 128 candidates, totalling 1280 fits\n",
      "Time needed for run_grid_search: 15.57 seconds\n",
      "Best parameters for AdaBoost: {'clf': AdaBoostClassifier(), 'clf__algorithm': 'SAMME.R', 'clf__learning_rate': 1.0, 'clf__n_estimators': 200}\n"
     ]
    }
   ],
   "source": [
    "# Record the start time\n",
    "start_time = time.time()\n",
    "\n",
    "# Run grid search\n",
    "grid_search_xgb = run_grid_search(pipeline, param_grid_xgb, X_train, y_train)\n",
    "\n",
    "# Record the end time\n",
    "end_time = time.time()\n",
    "\n",
    "# Calculate the elapsed time\n",
    "elapsed_time = end_time - start_time\n",
    "\n",
    "# Store results in a dictionary\n",
    "model_results = {\n",
    "        'Model': 'xgb',\n",
    "        'Time': elapsed_time}\n",
    "\n",
    "# Append the results to the list\n",
    "results_list.append(model_results)\n",
    "\n",
    "# Print output\n",
    "print(f\"Time needed for run_grid_search: {elapsed_time:.2f} seconds\")\n",
    "print(\"Best parameters for AdaBoost:\", grid_search_ada.best_params_)"
   ]
  },
  {
   "cell_type": "code",
   "execution_count": 79,
   "metadata": {},
   "outputs": [],
   "source": [
    "# Save the model\n",
    "\n",
    "XGB = grid_search_ada.best_estimator_"
   ]
  },
  {
   "cell_type": "code",
   "execution_count": 98,
   "metadata": {},
   "outputs": [
    {
     "name": "stdout",
     "output_type": "stream",
     "text": [
      "ROC-AUC for Train: 0.996176009365094\n",
      "ROC-AUC for Test: 0.9843641285302915\n",
      "F1 for Train: 0.9670973298880275\n",
      "F1 for Test: 0.9464856230031949\n",
      "Accuracy for Train: 0.9673950153636053\n",
      "Accuracy for Test: 0.9466348068498606\n",
      "Classification Report for Train:\n",
      "               precision    recall  f1-score   support\n",
      "\n",
      "           0       0.98      0.95      0.97      3006\n",
      "           1       0.95      0.98      0.97      2852\n",
      "\n",
      "    accuracy                           0.97      5858\n",
      "   macro avg       0.97      0.97      0.97      5858\n",
      "weighted avg       0.97      0.97      0.97      5858\n",
      "\n",
      "======================================================\n",
      "\n",
      "Classification Report for Test:\n",
      "               precision    recall  f1-score   support\n",
      "\n",
      "           0       0.97      0.93      0.95      1288\n",
      "           1       0.93      0.97      0.95      1223\n",
      "\n",
      "    accuracy                           0.95      2511\n",
      "   macro avg       0.95      0.95      0.95      2511\n",
      "weighted avg       0.95      0.95      0.95      2511\n",
      "\n"
     ]
    },
    {
     "data": {
      "image/png": "[encoded data removed]",
      "text/plain": [
       "<Figure size 1200x500 with 4 Axes>"
      ]
     },
     "metadata": {},
     "output_type": "display_data"
    }
   ],
   "source": [
    "class_results(XGB)\n",
    "report(XGB)\n",
    "cmplot(XGB)"
   ]
  },
  {
   "cell_type": "code",
   "execution_count": 90,
   "metadata": {},
   "outputs": [],
   "source": [
    "results_time = pd.DataFrame(results_list)"
   ]
  },
  {
   "cell_type": "markdown",
   "metadata": {},
   "source": [
    "#### Model Evaluation + Selection"
   ]
  },
  {
   "cell_type": "code",
   "execution_count": 109,
   "metadata": {},
   "outputs": [],
   "source": [
    "results_df = pd.DataFrame(results_df)\n",
    "overall_results = results_time.join(results_df)"
   ]
  },
  {
   "cell_type": "code",
   "execution_count": 112,
   "metadata": {},
   "outputs": [
    {
     "data": {
      "text/html": [
       "<div>\n",
       "<style scoped>\n",
       "    .dataframe tbody tr th:only-of-type {\n",
       "        vertical-align: middle;\n",
       "    }\n",
       "\n",
       "    .dataframe tbody tr th {\n",
       "        vertical-align: top;\n",
       "    }\n",
       "\n",
       "    .dataframe thead th {\n",
       "        text-align: right;\n",
       "    }\n",
       "</style>\n",
       "<table border=\"1\" class=\"dataframe\">\n",
       "  <thead>\n",
       "    <tr style=\"text-align: right;\">\n",
       "      <th></th>\n",
       "      <th>Model</th>\n",
       "      <th>Time</th>\n",
       "      <th>ROC-AUC Train</th>\n",
       "      <th>ROC-AUC Test</th>\n",
       "      <th>F1 Train</th>\n",
       "      <th>F1 Test</th>\n",
       "      <th>Accuracy Train</th>\n",
       "      <th>Accuracy Test</th>\n",
       "    </tr>\n",
       "  </thead>\n",
       "  <tbody>\n",
       "    <tr>\n",
       "      <th>0</th>\n",
       "      <td>log_reg</td>\n",
       "      <td>2.652821</td>\n",
       "      <td>0.959302</td>\n",
       "      <td>0.953096</td>\n",
       "      <td>0.930233</td>\n",
       "      <td>0.922459</td>\n",
       "      <td>0.930864</td>\n",
       "      <td>0.923138</td>\n",
       "    </tr>\n",
       "    <tr>\n",
       "      <th>1</th>\n",
       "      <td>rf</td>\n",
       "      <td>105.280522</td>\n",
       "      <td>0.999808</td>\n",
       "      <td>0.998960</td>\n",
       "      <td>0.999299</td>\n",
       "      <td>0.986134</td>\n",
       "      <td>0.999317</td>\n",
       "      <td>0.986460</td>\n",
       "    </tr>\n",
       "    <tr>\n",
       "      <th>2</th>\n",
       "      <td>knn</td>\n",
       "      <td>5.567713</td>\n",
       "      <td>0.999658</td>\n",
       "      <td>0.997121</td>\n",
       "      <td>0.999124</td>\n",
       "      <td>0.979124</td>\n",
       "      <td>0.999146</td>\n",
       "      <td>0.979689</td>\n",
       "    </tr>\n",
       "    <tr>\n",
       "      <th>3</th>\n",
       "      <td>ada</td>\n",
       "      <td>52.998717</td>\n",
       "      <td>0.996176</td>\n",
       "      <td>0.984364</td>\n",
       "      <td>0.967097</td>\n",
       "      <td>0.946486</td>\n",
       "      <td>0.967395</td>\n",
       "      <td>0.946635</td>\n",
       "    </tr>\n",
       "    <tr>\n",
       "      <th>4</th>\n",
       "      <td>xgb</td>\n",
       "      <td>15.569625</td>\n",
       "      <td>0.996176</td>\n",
       "      <td>0.984364</td>\n",
       "      <td>0.967097</td>\n",
       "      <td>0.946486</td>\n",
       "      <td>0.967395</td>\n",
       "      <td>0.946635</td>\n",
       "    </tr>\n",
       "  </tbody>\n",
       "</table>\n",
       "</div>"
      ],
      "text/plain": [
       "     Model        Time  ROC-AUC Train  ROC-AUC Test  F1 Train   F1 Test  \\\n",
       "0  log_reg    2.652821       0.959302      0.953096  0.930233  0.922459   \n",
       "1       rf  105.280522       0.999808      0.998960  0.999299  0.986134   \n",
       "2      knn    5.567713       0.999658      0.997121  0.999124  0.979124   \n",
       "3      ada   52.998717       0.996176      0.984364  0.967097  0.946486   \n",
       "4      xgb   15.569625       0.996176      0.984364  0.967097  0.946486   \n",
       "\n",
       "   Accuracy Train  Accuracy Test  \n",
       "0        0.930864       0.923138  \n",
       "1        0.999317       0.986460  \n",
       "2        0.999146       0.979689  \n",
       "3        0.967395       0.946635  \n",
       "4        0.967395       0.946635  "
      ]
     },
     "execution_count": 112,
     "metadata": {},
     "output_type": "execute_result"
    }
   ],
   "source": [
    "overall_results"
   ]
  },
  {
   "cell_type": "markdown",
   "metadata": {},
   "source": [
    "F1-Score is selected as the evaluation metric \n",
    "Using F1-Score as the evaluation metric, the Random Forest model performed the best, followed by K-Nearest Neighbour. However, looking at the time needed to perform Grid Search for RF model (105s) vs KNN model (5.6s), I selected **KNN model** as it is more computationally efficient and has a very impressive F1-score for test data at 0.98 as well.\n",
    "\n",
    "In summary, the model selected:\n",
    "- Model: K-Nearest Neighbour\n",
    "- Best Parameters'clf__metric': 'manhattan', 'clf__n_neighbors': 15, 'clf__p': 1, 'clf__weights': 'distance'"
   ]
  },
  {
   "cell_type": "markdown",
   "metadata": {},
   "source": [
    "#### Saving and Loading the Trained Model using Pickle"
   ]
  },
  {
   "cell_type": "markdown",
   "metadata": {},
   "source": [
    "After selecting the final model, I want to deploy it to a Streamlit app for a live demo - hence save it in a pickle file."
   ]
  },
  {
   "cell_type": "code",
   "execution_count": 73,
   "metadata": {},
   "outputs": [],
   "source": [
    "# Select the final model\n",
    "model = KNN"
   ]
  },
  {
   "cell_type": "code",
   "execution_count": 74,
   "metadata": {},
   "outputs": [],
   "source": [
    "# save the model to disk\n",
    "filename = 'finalized_model.sav'\n",
    "pickle.dump(model, open(filename, 'wb'))\n",
    " \n"
   ]
  },
  {
   "cell_type": "code",
   "execution_count": 75,
   "metadata": {},
   "outputs": [
    {
     "name": "stdout",
     "output_type": "stream",
     "text": [
      "0.9864595778574273\n"
     ]
    }
   ],
   "source": [
    "# load the model from disk\n",
    "loaded_model = pickle.load(open(filename, 'rb'))\n",
    "result = loaded_model.score(X_test, y_test)\n",
    "print(result)"
   ]
  },
  {
   "cell_type": "markdown",
   "metadata": {},
   "source": [
    "#### Conclusion"
   ]
  },
  {
   "cell_type": "markdown",
   "metadata": {},
   "source": [
    "Summary of Findings"
   ]
  },
  {
   "cell_type": "markdown",
   "metadata": {},
   "source": [
    "Limitations / Challenges"
   ]
  },
  {
   "cell_type": "markdown",
   "metadata": {},
   "source": []
  },
  {
   "cell_type": "markdown",
   "metadata": {},
   "source": [
    "#### Future Work\n",
    "1. Deploy to a Phone App: Bring the posture analysis system to a mobile app for widespread accessibility.\n",
    "2. Prescriptive Messages on How to Improve Posture: Provide actionable advice to users for correcting and improving their posture. Generate personalized, prescriptive messages based on the detected issues. Include visual or textual guidance for corrective exercises or adjustments.\n",
    "3. Detect Specific Types of Bad Posture/Medical Conditions: Enhance the system to identify and differentiate between specific types of bad posture or potential medical conditions. Train the model on a diverse dataset that includes examples of different posture types and medical conditions. For example, implement classification capabilities to identify overarching, slouching, or other specific issues. Collaborate with healthcare professionals to refine the model for medical conditions."
   ]
  },
  {
   "cell_type": "markdown",
   "metadata": {},
   "source": [
    "##### Use Cases\n",
    "\n",
    "1. Public Exercise Areas (Parks/Stadiums):\n",
    "\n",
    "- Objective: Remind people to maintain good posture during exercise or physical activities.\n",
    "- Implementation: Deploy cameras or sensors in public exercise areas to monitor individuals' postures.\n",
    "\n",
    "\n",
    "2. Schools (Physical Education Classes):\n",
    "\n",
    "- Objective: Ensure students maintain proper posture during physical education classes to prevent musculoskeletal issues.\n",
    "- Implementation: Integrate posture analysis into physical education sessions using cameras or wearable devices.\n",
    "\n",
    "3. Teleconsultation with Doctors/Chiropractors:\n",
    "\n",
    "- Objective: Support remote healthcare professionals in assessing and advising on posture-related issues.\n",
    "- Implementation: Use a posture analysis system in conjunction with video conferencing tools. Real-time posture assessment during virtual consultations.\n",
    "Customizable feedback and exercise recommendations.\n",
    "Integration with electronic health records for documentation."
   ]
  },
  {
   "cell_type": "markdown",
   "metadata": {},
   "source": []
  }
 ],
 "metadata": {
  "kernelspec": {
   "display_name": "Python 3 (ipykernel)",
   "language": "python",
   "name": "python3"
  },
  "language_info": {
   "codemirror_mode": {
    "name": "ipython",
    "version": 3
   },
   "file_extension": ".py",
   "mimetype": "text/x-python",
   "name": "python",
   "nbconvert_exporter": "python",
   "pygments_lexer": "ipython3",
   "version": "3.11.5"
  }
 },
 "nbformat": 4,
 "nbformat_minor": 2
}
